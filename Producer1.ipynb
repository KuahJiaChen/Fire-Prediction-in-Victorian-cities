{
 "cells": [
  {
   "cell_type": "markdown",
   "metadata": {},
   "source": [
    "# Event Producer 1"
   ]
  },
  {
   "cell_type": "markdown",
   "metadata": {},
   "source": [
    "Kuah Jia Chen"
   ]
  },
  {
   "cell_type": "markdown",
   "metadata": {},
   "source": [
    "This program writes records to Kafka topic `AssignmentPartB`. Each record has `key = \"climate\"` and `value = \"climate data\"`."
   ]
  },
  {
   "cell_type": "markdown",
   "metadata": {},
   "source": [
    "Import necessary libraries"
   ]
  },
  {
   "cell_type": "code",
   "execution_count": 1,
   "metadata": {},
   "outputs": [],
   "source": [
    "from time import sleep\n",
    "from json import *\n",
    "from kafka import KafkaProducer\n",
    "import random\n",
    "import datetime as dt\n",
    "import pandas as pd\n",
    "from datetime import *"
   ]
  },
  {
   "cell_type": "markdown",
   "metadata": {},
   "source": [
    "Publish the key value pair using the Kafka producer instance"
   ]
  },
  {
   "cell_type": "code",
   "execution_count": 2,
   "metadata": {},
   "outputs": [],
   "source": [
    "def publish_message(producer_instance, topic_name, key, value):\n",
    "    try:\n",
    "        key_bytes = bytes(key, encoding='utf-8')                              # encode the key to bytes\n",
    "        value_bytes = bytes(value, encoding='utf-8')                          # encode the value to bytes\n",
    "        producer_instance.send(topic_name, key=key_bytes, value=value_bytes)  # publish the message using the topic_name\n",
    "        producer_instance.flush()\n",
    "        # print out successful message once the data is published\n",
    "        print('Message published successfully. Data: ' + str(data) + \" Key:\" + key)\n",
    "    except Exception as ex:\n",
    "        print('Exception in publishing message.')                  # else, print out error message\n",
    "        print(str(ex))"
   ]
  },
  {
   "cell_type": "markdown",
   "metadata": {},
   "source": [
    "Get Kafka producer instance"
   ]
  },
  {
   "cell_type": "code",
   "execution_count": 3,
   "metadata": {},
   "outputs": [],
   "source": [
    "def connect_kafka_producer():\n",
    "    _producer = None\n",
    "    try:\n",
    "        _producer = KafkaProducer(bootstrap_servers=['localhost:9092'],\n",
    "                                  api_version=(0, 10))\n",
    "    except Exception as ex:\n",
    "        print('Exception while connecting Kafka.')\n",
    "        print(str(ex))\n",
    "    finally:\n",
    "        return _producer"
   ]
  },
  {
   "cell_type": "markdown",
   "metadata": {},
   "source": [
    "Find the latest date from the collection created in Part A"
   ]
  },
  {
   "cell_type": "code",
   "execution_count": 4,
   "metadata": {},
   "outputs": [
    {
     "name": "stdout",
     "output_type": "stream",
     "text": [
      "'31-12-2021'\n"
     ]
    }
   ],
   "source": [
    "from pymongo import MongoClient\n",
    "from pprint import pprint\n",
    "\n",
    "# Create a MongoClient/Mongodb connection \n",
    "client = MongoClient()\n",
    "\n",
    "# We will use the database: fit3182_assignment_db\n",
    "db = client.fit3182_assignment_db\n",
    "\n",
    "cursor = db.embedded_climate_hotspot.find().sort('date',-1).limit(1)\n",
    "for document in cursor:\n",
    "    pprint(document['date'].strftime(\"%d-%m-%Y\"))"
   ]
  },
  {
   "cell_type": "code",
   "execution_count": 5,
   "metadata": {},
   "outputs": [
    {
     "name": "stdout",
     "output_type": "stream",
     "text": [
      "Publishing records..\n",
      "Message published successfully. Data: {\"latitude\": -37.485, \"longitude\": 148.095, \"air_temperature_celcius\": 11, \"relative_humidity\": 45.4, \"windspeed_knots\": 5.2, \"max_wind_speed\": 8.9, \"precipitation \": \" 0.00A\", \"GHI_w/m2\": 98, \"date\": \"01-01-2022\", \"station\": 123456} Key:climate\n",
      "Message published successfully. Data: {\"latitude\": -37.091, \"longitude\": 145.362, \"air_temperature_celcius\": 12, \"relative_humidity\": 48.8, \"windspeed_knots\": 4.2, \"max_wind_speed\": 7.0, \"precipitation \": \" 0.00I\", \"GHI_w/m2\": 104, \"date\": \"02-01-2022\", \"station\": 123456} Key:climate\n",
      "Message published successfully. Data: {\"latitude\": -34.965, \"longitude\": 142.031, \"air_temperature_celcius\": 20, \"relative_humidity\": 62.6, \"windspeed_knots\": 10.1, \"max_wind_speed\": 15.0, \"precipitation \": \" 0.00I\", \"GHI_w/m2\": 153, \"date\": \"03-01-2022\", \"station\": 123456} Key:climate\n",
      "Message published successfully. Data: {\"latitude\": -36.9364, \"longitude\": 143.4996, \"air_temperature_celcius\": 14, \"relative_humidity\": 41.7, \"windspeed_knots\": 12.3, \"max_wind_speed\": 18.1, \"precipitation \": \" 0.00G\", \"GHI_w/m2\": 128, \"date\": \"04-01-2022\", \"station\": 123456} Key:climate\n",
      "Message published successfully. Data: {\"latitude\": -37.375, \"longitude\": 148.054, \"air_temperature_celcius\": 12, \"relative_humidity\": 47.0, \"windspeed_knots\": 4.8, \"max_wind_speed\": 8.9, \"precipitation \": \" 0.00I\", \"GHI_w/m2\": 105, \"date\": \"05-01-2022\", \"station\": 123456} Key:climate\n",
      "Message published successfully. Data: {\"latitude\": -37.591, \"longitude\": 149.33, \"air_temperature_celcius\": 16, \"relative_humidity\": 46.7, \"windspeed_knots\": 10.0, \"max_wind_speed\": 16.9, \"precipitation \": \" 0.00I\", \"GHI_w/m2\": 141, \"date\": \"06-01-2022\", \"station\": 123456} Key:climate\n",
      "Message published successfully. Data: {\"latitude\": -34.289, \"longitude\": 141.71200000000002, \"air_temperature_celcius\": 32, \"relative_humidity\": 54.1, \"windspeed_knots\": 12.8, \"max_wind_speed\": 19.0, \"precipitation \": \" 0.00I\", \"GHI_w/m2\": 265, \"date\": \"07-01-2022\", \"station\": 123456} Key:climate\n",
      "Message published successfully. Data: {\"latitude\": -37.3847, \"longitude\": 142.8935, \"air_temperature_celcius\": 20, \"relative_humidity\": 43.6, \"windspeed_knots\": 10.3, \"max_wind_speed\": 15.0, \"precipitation \": \" 0.00I\", \"GHI_w/m2\": 181, \"date\": \"08-01-2022\", \"station\": 123456} Key:climate\n",
      "Message published successfully. Data: {\"latitude\": -36.942, \"longitude\": 143.282, \"air_temperature_celcius\": 25, \"relative_humidity\": 58.3, \"windspeed_knots\": 7.1, \"max_wind_speed\": 13.0, \"precipitation \": \" 0.00I\", \"GHI_w/m2\": 199, \"date\": \"09-01-2022\", \"station\": 123456} Key:climate\n",
      "Message published successfully. Data: {\"latitude\": -35.2881, \"longitude\": 142.5679, \"air_temperature_celcius\": 17, \"relative_humidity\": 38.7, \"windspeed_knots\": 16.8, \"max_wind_speed\": 22.9, \"precipitation \": \" 0.00I\", \"GHI_w/m2\": 159, \"date\": \"10-01-2022\", \"station\": 123456} Key:climate\n",
      "Message published successfully. Data: {\"latitude\": -37.605, \"longitude\": 149.308, \"air_temperature_celcius\": 13, \"relative_humidity\": 48.5, \"windspeed_knots\": 10.7, \"max_wind_speed\": 14.0, \"precipitation \": \" 0.71G\", \"GHI_w/m2\": 113, \"date\": \"11-01-2022\", \"station\": 123456} Key:climate\n",
      "Message published successfully. Data: {\"latitude\": -37.8147, \"longitude\": 143.1062, \"air_temperature_celcius\": 17, \"relative_humidity\": 46.4, \"windspeed_knots\": 9.5, \"max_wind_speed\": 20.0, \"precipitation \": \" 0.00I\", \"GHI_w/m2\": 150, \"date\": \"12-01-2022\", \"station\": 123456} Key:climate\n",
      "Message published successfully. Data: {\"latitude\": -36.7179, \"longitude\": 142.2536, \"air_temperature_celcius\": 11, \"relative_humidity\": 40.4, \"windspeed_knots\": 9.2, \"max_wind_speed\": 15.0, \"precipitation \": \" 0.04G\", \"GHI_w/m2\": 102, \"date\": \"13-01-2022\", \"station\": 123456} Key:climate\n",
      "Message published successfully. Data: {\"latitude\": -37.330999999999996, \"longitude\": 143.122, \"air_temperature_celcius\": 19, \"relative_humidity\": 44.2, \"windspeed_knots\": 7.8, \"max_wind_speed\": 15.9, \"precipitation \": \" 0.00I\", \"GHI_w/m2\": 171, \"date\": \"14-01-2022\", \"station\": 123456} Key:climate\n",
      "Message published successfully. Data: {\"latitude\": -36.3674, \"longitude\": 143.7295, \"air_temperature_celcius\": 15, \"relative_humidity\": 48.7, \"windspeed_knots\": 8.5, \"max_wind_speed\": 20.0, \"precipitation \": \" 0.01G\", \"GHI_w/m2\": 130, \"date\": \"15-01-2022\", \"station\": 123456} Key:climate\n",
      "Message published successfully. Data: {\"latitude\": -36.152, \"longitude\": 143.578, \"air_temperature_celcius\": 15, \"relative_humidity\": 56.1, \"windspeed_knots\": 5.1, \"max_wind_speed\": 9.9, \"precipitation \": \" 0.00I\", \"GHI_w/m2\": 122, \"date\": \"16-01-2022\", \"station\": 123456} Key:climate\n",
      "Message published successfully. Data: {\"latitude\": -37.467, \"longitude\": 143.351, \"air_temperature_celcius\": 17, \"relative_humidity\": 53.4, \"windspeed_knots\": 9.4, \"max_wind_speed\": 25.1, \"precipitation \": \" 0.16G\", \"GHI_w/m2\": 142, \"date\": \"17-01-2022\", \"station\": 123456} Key:climate\n",
      "Message published successfully. Data: {\"latitude\": -37.477, \"longitude\": 143.352, \"air_temperature_celcius\": 18, \"relative_humidity\": 50.6, \"windspeed_knots\": 6.0, \"max_wind_speed\": 13.0, \"precipitation \": \" 0.00G\", \"GHI_w/m2\": 154, \"date\": \"18-01-2022\", \"station\": 123456} Key:climate\n",
      "Message published successfully. Data: {\"latitude\": -36.1002, \"longitude\": 142.3405, \"air_temperature_celcius\": 23, \"relative_humidity\": 49.6, \"windspeed_knots\": 6.3, \"max_wind_speed\": 13.0, \"precipitation \": \" 0.00I\", \"GHI_w/m2\": 198, \"date\": \"19-01-2022\", \"station\": 123456} Key:climate\n",
      "Message published successfully. Data: {\"latitude\": -36.4125, \"longitude\": 143.1189, \"air_temperature_celcius\": 12, \"relative_humidity\": 47.9, \"windspeed_knots\": 6.7, \"max_wind_speed\": 11.1, \"precipitation \": \" 0.00G\", \"GHI_w/m2\": 105, \"date\": \"20-01-2022\", \"station\": 123456} Key:climate\n",
      "Message published successfully. Data: {\"latitude\": -36.5548, \"longitude\": 142.5237, \"air_temperature_celcius\": 8, \"relative_humidity\": 38.6, \"windspeed_knots\": 12.8, \"max_wind_speed\": 18.1, \"precipitation \": \" 0.31G\", \"GHI_w/m2\": 75, \"date\": \"21-01-2022\", \"station\": 123456} Key:climate\n",
      "Message published successfully. Data: {\"latitude\": -37.452, \"longitude\": 148.115, \"air_temperature_celcius\": 8, \"relative_humidity\": 43.8, \"windspeed_knots\": 7.3, \"max_wind_speed\": 14.0, \"precipitation \": \" 0.08G\", \"GHI_w/m2\": 72, \"date\": \"22-01-2022\", \"station\": 123456} Key:climate\n",
      "Message published successfully. Data: {\"latitude\": -37.472, \"longitude\": 148.119, \"air_temperature_celcius\": 15, \"relative_humidity\": 49.9, \"windspeed_knots\": 7.9, \"max_wind_speed\": 13.0, \"precipitation \": \" 0.01G\", \"GHI_w/m2\": 129, \"date\": \"23-01-2022\", \"station\": 123456} Key:climate\n",
      "Message published successfully. Data: {\"latitude\": -37.858000000000004, \"longitude\": 143.428, \"air_temperature_celcius\": 13, \"relative_humidity\": 50.4, \"windspeed_knots\": 7.9, \"max_wind_speed\": 14.0, \"precipitation \": \" 0.00I\", \"GHI_w/m2\": 111, \"date\": \"24-01-2022\", \"station\": 123456} Key:climate\n",
      "Message published successfully. Data: {\"latitude\": -37.61, \"longitude\": 149.30700000000002, \"air_temperature_celcius\": 18, \"relative_humidity\": 55.5, \"windspeed_knots\": 8.9, \"max_wind_speed\": 15.0, \"precipitation \": \" 0.01G\", \"GHI_w/m2\": 147, \"date\": \"25-01-2022\", \"station\": 123456} Key:climate\n",
      "Message published successfully. Data: {\"latitude\": -36.358000000000004, \"longitude\": 143.113, \"air_temperature_celcius\": 21, \"relative_humidity\": 58.8, \"windspeed_knots\": 8.8, \"max_wind_speed\": 22.9, \"precipitation \": \" 0.08G\", \"GHI_w/m2\": 167, \"date\": \"26-01-2022\", \"station\": 123456} Key:climate\n",
      "Message published successfully. Data: {\"latitude\": -37.4661, \"longitude\": 143.2419, \"air_temperature_celcius\": 14, \"relative_humidity\": 48.2, \"windspeed_knots\": 9.1, \"max_wind_speed\": 15.0, \"precipitation \": \" 0.00G\", \"GHI_w/m2\": 122, \"date\": \"27-01-2022\", \"station\": 123456} Key:climate\n",
      "Message published successfully. Data: {\"latitude\": -37.467, \"longitude\": 148.127, \"air_temperature_celcius\": 10, \"relative_humidity\": 37.9, \"windspeed_knots\": 8.5, \"max_wind_speed\": 14.0, \"precipitation \": \" 0.02G\", \"GHI_w/m2\": 94, \"date\": \"28-01-2022\", \"station\": 123456} Key:climate\n",
      "Message published successfully. Data: {\"latitude\": -36.6686, \"longitude\": 142.5195, \"air_temperature_celcius\": 16, \"relative_humidity\": 47.0, \"windspeed_knots\": 12.0, \"max_wind_speed\": 16.9, \"precipitation \": \" 0.00I\", \"GHI_w/m2\": 141, \"date\": \"29-01-2022\", \"station\": 123456} Key:climate\n"
     ]
    },
    {
     "name": "stdout",
     "output_type": "stream",
     "text": [
      "Message published successfully. Data: {\"latitude\": -37.609, \"longitude\": 149.32, \"air_temperature_celcius\": 16, \"relative_humidity\": 48.3, \"windspeed_knots\": 9.4, \"max_wind_speed\": 14.0, \"precipitation \": \" 0.01G\", \"GHI_w/m2\": 139, \"date\": \"30-01-2022\", \"station\": 123456} Key:climate\n",
      "Message published successfully. Data: {\"latitude\": -37.4551, \"longitude\": 143.7902, \"air_temperature_celcius\": 9, \"relative_humidity\": 37.9, \"windspeed_knots\": 9.1, \"max_wind_speed\": 15.9, \"precipitation \": \" 0.00G\", \"GHI_w/m2\": 85, \"date\": \"31-01-2022\", \"station\": 123456} Key:climate\n",
      "Message published successfully. Data: {\"latitude\": -36.4422, \"longitude\": 141.42700000000002, \"air_temperature_celcius\": 15, \"relative_humidity\": 48.1, \"windspeed_knots\": 7.9, \"max_wind_speed\": 12.0, \"precipitation \": \" 0.00G\", \"GHI_w/m2\": 131, \"date\": \"01-02-2022\", \"station\": 123456} Key:climate\n",
      "Message published successfully. Data: {\"latitude\": -37.614000000000004, \"longitude\": 143.451, \"air_temperature_celcius\": 19, \"relative_humidity\": 60.2, \"windspeed_knots\": 6.4, \"max_wind_speed\": 12.0, \"precipitation \": \" 0.00I\", \"GHI_w/m2\": 149, \"date\": \"02-02-2022\", \"station\": 123456} Key:climate\n",
      "Message published successfully. Data: {\"latitude\": -36.6312, \"longitude\": 142.5058, \"air_temperature_celcius\": 17, \"relative_humidity\": 52.5, \"windspeed_knots\": 5.7, \"max_wind_speed\": 11.1, \"precipitation \": \" 0.00I\", \"GHI_w/m2\": 143, \"date\": \"03-02-2022\", \"station\": 123456} Key:climate\n",
      "Message published successfully. Data: {\"latitude\": -36.3674, \"longitude\": 143.7295, \"air_temperature_celcius\": 15, \"relative_humidity\": 48.7, \"windspeed_knots\": 8.5, \"max_wind_speed\": 20.0, \"precipitation \": \" 0.01G\", \"GHI_w/m2\": 130, \"date\": \"04-02-2022\", \"station\": 123456} Key:climate\n",
      "Message published successfully. Data: {\"latitude\": -36.9817, \"longitude\": 143.5051, \"air_temperature_celcius\": 14, \"relative_humidity\": 44.0, \"windspeed_knots\": 14.4, \"max_wind_speed\": 23.9, \"precipitation \": \" 0.16G\", \"GHI_w/m2\": 126, \"date\": \"05-02-2022\", \"station\": 123456} Key:climate\n",
      "Message published successfully. Data: {\"latitude\": -37.375, \"longitude\": 148.063, \"air_temperature_celcius\": 10, \"relative_humidity\": 43.5, \"windspeed_knots\": 12.0, \"max_wind_speed\": 16.9, \"precipitation \": \" 0.04G\", \"GHI_w/m2\": 90, \"date\": \"06-02-2022\", \"station\": 123456} Key:climate\n",
      "Message published successfully. Data: {\"latitude\": -37.485, \"longitude\": 148.095, \"air_temperature_celcius\": 11, \"relative_humidity\": 45.4, \"windspeed_knots\": 5.2, \"max_wind_speed\": 8.9, \"precipitation \": \" 0.00A\", \"GHI_w/m2\": 98, \"date\": \"07-02-2022\", \"station\": 123456} Key:climate\n",
      "Message published successfully. Data: {\"latitude\": -37.618, \"longitude\": 149.281, \"air_temperature_celcius\": 19, \"relative_humidity\": 53.8, \"windspeed_knots\": 9.2, \"max_wind_speed\": 15.0, \"precipitation \": \" 0.02G\", \"GHI_w/m2\": 158, \"date\": \"08-02-2022\", \"station\": 123456} Key:climate\n",
      "Message published successfully. Data: {\"latitude\": -37.467, \"longitude\": 143.351, \"air_temperature_celcius\": 17, \"relative_humidity\": 53.4, \"windspeed_knots\": 9.4, \"max_wind_speed\": 25.1, \"precipitation \": \" 0.16G\", \"GHI_w/m2\": 142, \"date\": \"09-02-2022\", \"station\": 123456} Key:climate\n",
      "Message published successfully. Data: {\"latitude\": -37.062, \"longitude\": 141.373, \"air_temperature_celcius\": 26, \"relative_humidity\": 52.2, \"windspeed_knots\": 13.7, \"max_wind_speed\": 16.9, \"precipitation \": \" 0.00I\", \"GHI_w/m2\": 219, \"date\": \"10-02-2022\", \"station\": 123456} Key:climate\n",
      "Message published successfully. Data: {\"latitude\": -37.8387, \"longitude\": 144.6301, \"air_temperature_celcius\": 11, \"relative_humidity\": 41.4, \"windspeed_knots\": 7.7, \"max_wind_speed\": 15.0, \"precipitation \": \" 0.03G\", \"GHI_w/m2\": 101, \"date\": \"11-02-2022\", \"station\": 123456} Key:climate\n",
      "Message published successfully. Data: {\"latitude\": -37.400999999999996, \"longitude\": 148.067, \"air_temperature_celcius\": 13, \"relative_humidity\": 42.5, \"windspeed_knots\": 14.0, \"max_wind_speed\": 19.0, \"precipitation \": \" 0.04G\", \"GHI_w/m2\": 118, \"date\": \"12-02-2022\", \"station\": 123456} Key:climate\n",
      "Message published successfully. Data: {\"latitude\": -37.293, \"longitude\": 141.245, \"air_temperature_celcius\": 10, \"relative_humidity\": 45.7, \"windspeed_knots\": 3.7, \"max_wind_speed\": 8.0, \"precipitation \": \" 0.01G\", \"GHI_w/m2\": 89, \"date\": \"13-02-2022\", \"station\": 123456} Key:climate\n",
      "Message published successfully. Data: {\"latitude\": -36.8264, \"longitude\": 142.6138, \"air_temperature_celcius\": 15, \"relative_humidity\": 48.2, \"windspeed_knots\": 14.7, \"max_wind_speed\": 25.1, \"precipitation \": \" 0.43G\", \"GHI_w/m2\": 131, \"date\": \"14-02-2022\", \"station\": 123456} Key:climate\n",
      "Message published successfully. Data: {\"latitude\": -36.543, \"longitude\": 141.138, \"air_temperature_celcius\": 15, \"relative_humidity\": 47.7, \"windspeed_knots\": 5.9, \"max_wind_speed\": 13.0, \"precipitation \": \" 0.00I\", \"GHI_w/m2\": 131, \"date\": \"15-02-2022\", \"station\": 123456} Key:climate\n",
      "Message published successfully. Data: {\"latitude\": -37.189, \"longitude\": 146.791, \"air_temperature_celcius\": 21, \"relative_humidity\": 61.1, \"windspeed_knots\": 6.6, \"max_wind_speed\": 11.1, \"precipitation \": \" 0.00I\", \"GHI_w/m2\": 163, \"date\": \"16-02-2022\", \"station\": 123456} Key:climate\n",
      "Message published successfully. Data: {\"latitude\": -37.448, \"longitude\": 148.114, \"air_temperature_celcius\": 10, \"relative_humidity\": 44.4, \"windspeed_knots\": 5.6, \"max_wind_speed\": 11.1, \"precipitation \": \" 0.12G\", \"GHI_w/m2\": 90, \"date\": \"17-02-2022\", \"station\": 123456} Key:climate\n",
      "Message published successfully. Data: {\"latitude\": -37.436, \"longitude\": 148.088, \"air_temperature_celcius\": 15, \"relative_humidity\": 41.5, \"windspeed_knots\": 17.0, \"max_wind_speed\": 28.9, \"precipitation \": \" 0.00I\", \"GHI_w/m2\": 138, \"date\": \"18-02-2022\", \"station\": 123456} Key:climate\n",
      "Message published successfully. Data: {\"latitude\": -36.284, \"longitude\": 146.145, \"air_temperature_celcius\": 19, \"relative_humidity\": 54.1, \"windspeed_knots\": 11.2, \"max_wind_speed\": 18.1, \"precipitation \": \" 0.31G\", \"GHI_w/m2\": 157, \"date\": \"19-02-2022\", \"station\": 123456} Key:climate\n",
      "Message published successfully. Data: {\"latitude\": -36.2111, \"longitude\": 141.505, \"air_temperature_celcius\": 24, \"relative_humidity\": 55.5, \"windspeed_knots\": 7.9, \"max_wind_speed\": 15.0, \"precipitation \": \" 0.00I\", \"GHI_w/m2\": 196, \"date\": \"20-02-2022\", \"station\": 123456} Key:climate\n",
      "Message published successfully. Data: {\"latitude\": -37.585, \"longitude\": 149.336, \"air_temperature_celcius\": 17, \"relative_humidity\": 52.5, \"windspeed_knots\": 6.7, \"max_wind_speed\": 12.0, \"precipitation \": \" 0.00G\", \"GHI_w/m2\": 143, \"date\": \"21-02-2022\", \"station\": 123456} Key:climate\n",
      "Message published successfully. Data: {\"latitude\": -37.448, \"longitude\": 148.114, \"air_temperature_celcius\": 10, \"relative_humidity\": 44.4, \"windspeed_knots\": 5.6, \"max_wind_speed\": 11.1, \"precipitation \": \" 0.12G\", \"GHI_w/m2\": 90, \"date\": \"22-02-2022\", \"station\": 123456} Key:climate\n",
      "Message published successfully. Data: {\"latitude\": -37.641999999999996, \"longitude\": 149.263, \"air_temperature_celcius\": 20, \"relative_humidity\": 55.8, \"windspeed_knots\": 10.5, \"max_wind_speed\": 15.9, \"precipitation \": \" 0.01G\", \"GHI_w/m2\": 163, \"date\": \"23-02-2022\", \"station\": 123456} Key:climate\n",
      "Message published successfully. Data: {\"latitude\": -37.758, \"longitude\": 148.721, \"air_temperature_celcius\": 9, \"relative_humidity\": 41.2, \"windspeed_knots\": 9.8, \"max_wind_speed\": 15.9, \"precipitation \": \" 0.00I\", \"GHI_w/m2\": 83, \"date\": \"24-02-2022\", \"station\": 123456} Key:climate\n",
      "Message published successfully. Data: {\"latitude\": -36.6686, \"longitude\": 142.5195, \"air_temperature_celcius\": 16, \"relative_humidity\": 47.0, \"windspeed_knots\": 12.0, \"max_wind_speed\": 16.9, \"precipitation \": \" 0.00I\", \"GHI_w/m2\": 141, \"date\": \"25-02-2022\", \"station\": 123456} Key:climate\n",
      "Message published successfully. Data: {\"latitude\": -37.469, \"longitude\": 148.125, \"air_temperature_celcius\": 14, \"relative_humidity\": 48.4, \"windspeed_knots\": 7.5, \"max_wind_speed\": 13.0, \"precipitation \": \" 0.00G\", \"GHI_w/m2\": 122, \"date\": \"26-02-2022\", \"station\": 123456} Key:climate\n"
     ]
    },
    {
     "ename": "KeyboardInterrupt",
     "evalue": "",
     "output_type": "error",
     "traceback": [
      "\u001b[0;31m---------------------------------------------------------------------------\u001b[0m",
      "\u001b[0;31mKeyboardInterrupt\u001b[0m                         Traceback (most recent call last)",
      "\u001b[0;32m<ipython-input-5-65b454ae6e25>\u001b[0m in \u001b[0;36m<module>\u001b[0;34m\u001b[0m\n\u001b[1;32m     32\u001b[0m                                                                  \u001b[0;31m# and publish the key value pair\u001b[0m\u001b[0;34m\u001b[0m\u001b[0;34m\u001b[0m\u001b[0;34m\u001b[0m\u001b[0m\n\u001b[1;32m     33\u001b[0m \u001b[0;34m\u001b[0m\u001b[0m\n\u001b[0;32m---> 34\u001b[0;31m         \u001b[0msleep\u001b[0m\u001b[0;34m(\u001b[0m\u001b[0;36m10\u001b[0m\u001b[0;34m)\u001b[0m                                                \u001b[0;31m# publish data every 10 seconds\u001b[0m\u001b[0;34m\u001b[0m\u001b[0;34m\u001b[0m\u001b[0m\n\u001b[0m",
      "\u001b[0;31mKeyboardInterrupt\u001b[0m: "
     ]
    }
   ],
   "source": [
    "if __name__ == '__main__':\n",
    "   \n",
    "    topic = 'AssignmentPartB'                                    # the topic name\n",
    "    \n",
    "    print('Publishing records..')\n",
    "    producer = connect_kafka_producer()                          # connect to the kafka producer\n",
    "    \n",
    "    climate_streaming = pd.read_csv(\"climate_streaming.csv\")     # read the file for streaming data\n",
    "    \n",
    "    current_date = \"31-12-2021\"                                  # get from above\n",
    "    \n",
    "    current_date_obj = datetime.strptime(current_date,'%d-%m-%Y')# change it to date object\n",
    "    \n",
    "    constant_station_ID = 123456                                 # provide a constant station ID for each climate data\n",
    "    \n",
    "    while True:\n",
    "        \n",
    "        current_date_obj += timedelta(days=1)                    # generate new date by adding one day from the previous day\n",
    "        \n",
    "        new_date = current_date_obj.strftime('%d-%m-%Y')         # make the new data as string\n",
    "        \n",
    "        current_data = climate_streaming.sample(replace=True)    # get random data (with replacement)\n",
    "        \n",
    "        current_data['date'] = new_date                          # include the date information in the document\n",
    "        \n",
    "        current_data['station'] = constant_station_ID            # include the station id information in the document \n",
    "        \n",
    "        data = dumps(current_data.to_dict('records')[0])         # prepare the data with proper data format by\n",
    "                                                                 # converting the dictionary to string \n",
    "        \n",
    "        publish_message(producer, topic, 'climate',data)         # insert producer information as key\n",
    "                                                                 # and publish the key value pair\n",
    "        \n",
    "        sleep(10)                                                # publish data every 10 seconds"
   ]
  }
 ],
 "metadata": {
  "kernelspec": {
   "display_name": "Python 3",
   "language": "python",
   "name": "python3"
  },
  "language_info": {
   "codemirror_mode": {
    "name": "ipython",
    "version": 3
   },
   "file_extension": ".py",
   "mimetype": "text/x-python",
   "name": "python",
   "nbconvert_exporter": "python",
   "pygments_lexer": "ipython3",
   "version": "3.8.10"
  }
 },
 "nbformat": 4,
 "nbformat_minor": 4
}
